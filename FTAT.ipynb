{
 "cells": [
  {
   "cell_type": "code",
   "execution_count": 1,
   "metadata": {
    "code_folding": [
     0
    ]
   },
   "outputs": [
    {
     "name": "stdout",
     "output_type": "stream",
     "text": [
      "ITPS Data Analysis Tool Beta v0.1\n"
     ]
    },
    {
     "data": {
      "text/html": [
       "<style>.container { width:100% !important; }</style>"
      ],
      "text/plain": [
       "<IPython.core.display.HTML object>"
      ]
     },
     "metadata": {},
     "output_type": "display_data"
    }
   ],
   "source": [
    "# initial imports\n",
    "\n",
    "print('ITPS Data Analysis Tool Beta v0.1')\n",
    "import pandas as pd\n",
    "pd.options.mode.chained_assignment = None  # default='warn'\n",
    "pd.options.display.float_format = '{:.2f}'.format\n",
    "import numpy as np\n",
    "import sys\n",
    "from datetime import datetime\n",
    "import time\n",
    "\n",
    "from collections import OrderedDict\n",
    "\n",
    "from bqplot import *\n",
    "from bqplot.interacts import (\n",
    "    FastIntervalSelector, IndexSelector, BrushIntervalSelector,\n",
    "    BrushSelector, MultiSelector, LassoSelector, PanZoom, HandDraw\n",
    ")\n",
    "from bqplot.market_map import MarketMap\n",
    "from traitlets import link\n",
    "\n",
    "from ipywidgets import ToggleButtons, VBox, HBox, HTML, Box\n",
    "from ipywidgets import widgets, link\n",
    "from ipywidgets import Label, Layout, Style\n",
    "from ipywidgets import interact, interactive, fixed, interact_manual\n",
    "from IPython.display import display, HTML, clear_output, Javascript\n",
    "import os\n",
    "\n",
    "# make display 100% of the screen\n",
    "display(HTML(\"<style>.container { width:100% !important; }</style>\"))\n",
    "\n",
    "from FTAT_imports import *\n",
    "\n",
    "time_slices_db = {} #this is the time slices data base, TP#, Description, Start, Stop (indexes)\n",
    "selected_slice = [] #this is a global variable to store the currently selected slice\n",
    "\n",
    "## This is for notebooks that do not have code folding:\n",
    "#cells_visable = True\n",
    "#def toggle_code_cells(btn):\n",
    "#    global cells_visable\n",
    "#    if cells_visable:\n",
    "#        display(Javascript(\"$('div.input').hide();\"))\n",
    "#        btn.description = \"Show Code Cells\"\n",
    "#    else:\n",
    "#        display(Javascript(\"$('div.input').show();\"))\n",
    "#        btn.description = \"Hide Code Cells\"\n",
    "#    cells_visable = not cells_visable\n",
    "    \n",
    "\n",
    "#toggle_btn = widgets.Button(description=\"Hide Code Cells\")\n",
    "#toggle_btn.on_click(toggle_code_cells)\n",
    "\n",
    "#display(toggle_btn)"
   ]
  },
  {
   "cell_type": "code",
   "execution_count": null,
   "metadata": {
    "code_folding": [
     0
    ]
   },
   "outputs": [],
   "source": [
    "# File Selection\n",
    "print('ITPS IADS Data Reader')\n",
    "print('Select the CLEANNED data file')\n",
    "print('If you do not have the CLEANNED file, change the code in the next-next cell to clean it')\n",
    "\n",
    "\n",
    "f = FileBrowser()\n",
    "#f.widget()  #\n",
    "#   <interact with widget, select a path>\n",
    "# in a separate cell:"
   ]
  },
  {
   "cell_type": "code",
   "execution_count": null,
   "metadata": {
    "code_folding": [
     0
    ]
   },
   "outputs": [],
   "source": [
    "# Selected Data Reading\n",
    "print('Reading data from {}'.format(f.path))\n",
    "print('wait for the asterisk on the left to become a number...')\n",
    "filepath='./IadsDataExport_clean.csv' #\n",
    "raw_data=pd.read_csv(filepath, encoding='latin1', low_memory=False) #\n",
    "#raw_data=pd.read_csv(f.path, encoding='latin1', low_memory=False) ##\n",
    "print('Done.')"
   ]
  },
  {
   "cell_type": "code",
   "execution_count": null,
   "metadata": {
    "code_folding": [
     0
    ]
   },
   "outputs": [],
   "source": [
    "# clean up time from IADS, subsample for fast graphing\n",
    "\n",
    "\n",
    "## FOR DIRTY DATA, UNCOMMENT NEXT 3 LINES (DIRTY DATA) AND COMMENT OUT THE OTHER 2 LINES (CLEAN DATA)\n",
    "#print('Cleaning up the data...')  #DIRTY DATA\n",
    "#raw_data.fillna(value=0, inplace=True)  #DIRTY DATA\n",
    "#raw_data['Time'] = (raw_data['Time'].str.slice_replace(0,4,''))  #DIRTY DATA\n",
    "\n",
    "raw_data['Time'] = pd.to_datetime(raw_data['Time'])   #CLEAN DATA\n",
    "raw_data = raw_data.set_index(['Time'])   #CLEAN DATA\n",
    "###\n",
    "print('Imported data from: {} to: {}, with {} records'.format(raw_data.index[0], raw_data.index[-1], len(raw_data.index) ))\n",
    "\n",
    "# Let's subsample to speed up the graphing process\n",
    "desired_sub_sample_rate = 5 #Hz\n",
    "counter = 0\n",
    "start_sample = raw_data.index[0]\n",
    "next_sample = start_sample\n",
    "while (next_sample - start_sample <= np.timedelta64(1, 's')):\n",
    "    counter = counter + 1\n",
    "    next_sample = raw_data.index[counter]\n",
    "if desired_sub_sample_rate <= counter:\n",
    "    sub_sample_rate = int(counter / desired_sub_sample_rate)\n",
    "else:\n",
    "    sub_sample_rate = int(counter)\n",
    "    desired_sub_sample_rate = counter\n",
    "    \n",
    "sub_sampled_data = raw_data[::sub_sample_rate]\n",
    "\n",
    "print('Original data at {} Hz'.format((counter-1)))\n",
    "print('Data subsampled to {} Hz to speed up graphing. Reduced to {} records'.format(desired_sub_sample_rate, len(sub_sampled_data.index)))\n"
   ]
  },
  {
   "cell_type": "code",
   "execution_count": null,
   "metadata": {
    "code_folding": [
     0
    ]
   },
   "outputs": [],
   "source": [
    "# Slice Map and Definitions\n",
    "slicemap = ParameterMap(sub_sampled_data, 'MediumSeaGreen', 'Parameter Map')\n",
    "slicemap.map.on_hover(slicemap.hover_handler)\n",
    "preview_button = widgets.ToggleButton(\n",
    "    value=False,\n",
    "    description='Preview Data',\n",
    "    disabled=False,\n",
    "    button_style='', # 'success', 'info', 'warning', 'danger' or ''\n",
    "    tooltip='Activate to enable data preview'\n",
    ")\n",
    "def toggle_data_preview(b):\n",
    "    if b.new:\n",
    "        slicemap.map.enable_hover = True\n",
    "    else:\n",
    "        slicemap.map.enable_hover = False\n",
    "\n",
    "preview_button.observe(toggle_data_preview, \"value\")"
   ]
  },
  {
   "cell_type": "code",
   "execution_count": null,
   "metadata": {
    "code_folding": [
     0
    ]
   },
   "outputs": [],
   "source": [
    "# Slice Graph Definitions\n",
    "print('Preparing Graph Parameters ... may take a while ... patience is a virtue.')\n",
    "# data\n",
    "current_plot_data = sub_sampled_data\n",
    "x_main_graph_data = current_plot_data.index.values\n",
    "y_main_graph_data = current_plot_data.index.values\n",
    "\n",
    "slice_plot = ZoomPlot(current_plot_data.index.values, current_plot_data.index.values)\n",
    "detail_plot = ZoomPlot(current_plot_data.index.values, current_plot_data.index.values)\n",
    "detail_plot_stats = widgets.HTML(\n",
    "    value=\"Empty <b>Empty</b>\",\n",
    "    placeholder='Stats',\n",
    "    description='Stats',\n",
    ")\n",
    "detail_plot_stats.value = 'Empty'"
   ]
  },
  {
   "cell_type": "code",
   "execution_count": null,
   "metadata": {
    "code_folding": [
     0
    ]
   },
   "outputs": [],
   "source": [
    "# Slice Logics\n",
    "deb_output = Label()\n",
    "\n",
    "def selected_index_changed(change):\n",
    "    deb_output.value = str(change.new)\n",
    "    if len(slicemap.map.selected) != 0:\n",
    "        global current_plot_data\n",
    "        selected_parameters_plot_data = np.transpose(sub_sampled_data.as_matrix(slicemap.map.selected))\n",
    "        current_plot_data = sub_sampled_data[slicemap.map.selected]\n",
    "        slice_plot.line.y = selected_parameters_plot_data\n",
    "        slice_plot.fig.title = str(slicemap.map.selected)\n",
    "        detail_plot.line.y = selected_parameters_plot_data\n",
    "        detail_plot.fig.title = str(slicemap.map.selected) + ' - Zoomed'\n",
    "\n",
    "slicemap.map.observe(selected_index_changed, 'selected')\n",
    "\n",
    "slicebox = sliceSelectDialog(current_plot_data)\n",
    "#HBox(children=slicebox.slice_box_items)"
   ]
  },
  {
   "cell_type": "code",
   "execution_count": null,
   "metadata": {
    "code_folding": [
     0
    ]
   },
   "outputs": [],
   "source": [
    "# Plot Button Logic\n",
    "def on_plot_button_clicked(b):\n",
    "    global current_plot_data, selected_slice, sliced_data\n",
    "    slice_start_time = current_plot_data.index[0]\n",
    "    slice_start_time = slice_start_time.replace(hour=slicebox.start_hour_box.value, \n",
    "                                                minute=slicebox.start_minute_box.value,\n",
    "                                                second=slicebox.start_second_box.value)\n",
    "    if slice_start_time < current_plot_data.index[0]:\n",
    "        slice_start_time = current_plot_data.index[0]\n",
    "    slice_end_time = current_plot_data.index[0]\n",
    "    slice_end_time = slice_start_time.replace(hour=slicebox.end_hour_box.value, \n",
    "                                              minute=slicebox.end_minute_box.value,\n",
    "                                              second=slicebox.end_second_box.value)\n",
    "    if (slice_end_time > current_plot_data.index[-1]) or (slice_end_time <= slice_start_time) :\n",
    "        slice_end_time = current_plot_data.index[-1]\n",
    "    #the reason I store the selected_slice is growth capability\n",
    "    #in the future, I want to maybe use these times to slice a movie\n",
    "    #therefore I cannot store/lookup the index of the data. Need times.\n",
    "    \n",
    "\n",
    "    #this  of the code USES the FULLY sampled data for the zoomed graph\n",
    "    #for now, I will stick with the subsampled data and use the full set when analyzing only\n",
    "    '''\n",
    "    slice_start_index = raw_data.index.searchsorted(slice_start_time)\n",
    "    slice_end_index = raw_data.index.searchsorted(slice_end_time)\n",
    "    sliced_data = raw_data[current_plot_data.columns.values].iloc[slice_start_index:slice_end_index]\n",
    "    x_fig2_graph_data = sliced_data.index.values\n",
    "    y_fig2_graph_data = np.transpose(sliced_data)\n",
    "    selected_slice = [sliced_data.index.values[0], sliced_data.index.values[-1]]\n",
    "    '''\n",
    "    \n",
    "    #this version of the code does *NOT* use the fully sampled data for the zoomed graph\n",
    "    slice_start_index = current_plot_data.index.searchsorted(slice_start_time)\n",
    "    slice_end_index = current_plot_data.index.searchsorted(slice_end_time)\n",
    "    sliced_data = current_plot_data.iloc[slice_start_index:slice_end_index]\n",
    "    selected_slice = [sliced_data.index.values[0], sliced_data.index.values[-1]]\n",
    "\n",
    "    detail_plot.line.x = sliced_data.index.values\n",
    "    detail_plot.line.y = np.transpose(sliced_data)\n",
    "    \n",
    "    detail_plot_stats.value = sliced_data.describe().to_html()\n",
    "\n",
    "plot_button = widgets.Button(description='Plot Slice Below')\n",
    "plot_button.on_click(on_plot_button_clicked)\n"
   ]
  },
  {
   "cell_type": "code",
   "execution_count": null,
   "metadata": {
    "code_folding": [
     0
    ],
    "scrolled": false
   },
   "outputs": [],
   "source": [
    "# Graph Generation\n",
    "\n",
    "print('TIME SLICES SELECTION')\n",
    "print('1. Fine tune Time Slice (TS) with H:M:S boxes')\n",
    "print('2. Select Plot Slice Below')\n",
    "print('3. Set TP# and brief description')\n",
    "print('4. Hit Save TSlice')\n",
    "print('5. Do next slice')\n",
    "# Save Slice Button and Logic\n",
    "\n",
    "# time slices are saved to a dictionary for later analysis\n",
    "TP_number_box = widgets.FloatText(\n",
    "    value=0.0,\n",
    "    description='TP#:',\n",
    "    disabled=False,\n",
    "    layout=Layout(width='130px')\n",
    ")\n",
    "\n",
    "TP_desc_box = widgets.Text(\n",
    "    value='',\n",
    "    placeholder='Type something',\n",
    "    description='TP Title:',\n",
    "    disabled=False\n",
    ")\n",
    "TS_message = Label()\n",
    "\n",
    "##analysis widgets moved up to cope with interaction\n",
    "data_slice_selec = DataSliceSelect(time_slices_db)\n",
    "\n",
    "#data_slice_selec_link = link((TP_saved_dd, 'options'), (data_slice_selec.analysisTPdd, 'options'))\n",
    "###\n",
    "\n",
    "def on_saveTS_button_clicked(b):\n",
    "    global time_slices_db\n",
    "    if str(TP_number_box.value) in time_slices_db:\n",
    "        TS_message.value = 'TP# {} already in db, choose a different one'.format(TP_number_box.value)\n",
    "    else:\n",
    "        TS_message.value = 'added TP {}'.format(TP_number_box.value)\n",
    "        if detail_plot.xs.min:  # if the scale is None, go to ELSE!\n",
    "            time_slices_db[str(TP_number_box.value)] = [TP_desc_box.value, np.datetime64(detail_plot.xs.min)\n",
    "                                                        , np.datetime64(detail_plot.xs.max)]\n",
    "        else:\n",
    "            time_slices_db[str(TP_number_box.value)] = [TP_desc_box.value, selected_slice[0], selected_slice[-1]]\n",
    "        TP_saved_dd.options = list(dict.keys(time_slices_db))\n",
    "        data_slice_selec.analysisTPdd.options = list(dict.keys(time_slices_db))\n",
    "        \n",
    "def on_delTS_button_clicked(b):\n",
    "    global time_slices_db\n",
    "    if TP_saved_dd.value in time_slices_db:\n",
    "        TS_message.value = 'Deleted'\n",
    "        del time_slices_db[TP_saved_dd.value]\n",
    "        TP_saved_dd.options = list(dict.keys(time_slices_db))\n",
    "    else:\n",
    "        TS_message.value = 'trying to delete nothing?'\n",
    "\n",
    "\n",
    "TP_saved_dd = widgets.Dropdown(\n",
    "    options=time_slices_db,\n",
    "    description='TP#:',\n",
    "    disabled=False,\n",
    ")\n",
    "\n",
    "def on_TP_saved_dd_change(change):\n",
    "    if change['type'] == 'change' and change['name'] == 'value':\n",
    "        #print(\"changed to %s\" % change['new'])\n",
    "        TS_message.value = ''\n",
    "\n",
    "TP_saved_dd.observe(on_TP_saved_dd_change)\n",
    "    \n",
    "    \n",
    "saveTS_button = widgets.Button(description='Save TSlice')\n",
    "saveTS_button.on_click(on_saveTS_button_clicked)\n",
    "delTS_button = widgets.Button(description='Delete TSlice')\n",
    "delTS_button.on_click(on_delTS_button_clicked)\n",
    "\n",
    "\n",
    "######http://ipywidgets.readthedocs.io/en/latest/examples/Widget%20Styling.html\n",
    "# actual dashboard\n",
    "\n",
    "# list of items to be displayed\n",
    "slicer_form_items = [\n",
    "    VBox([deb_output, preview_button, slicemap.map]),\n",
    "    VBox([slice_plot.fig, HBox([slice_plot.zoom_interacts,slice_plot.reset_zoom_button])]),\n",
    "    HBox(children=slicebox.slice_box_items),\n",
    "    Box([plot_button]),\n",
    "    HBox([detail_plot.fig, detail_plot_stats]),\n",
    "    HBox([detail_plot.zoom_interacts,detail_plot.reset_zoom_button]),\n",
    "    VBox([TS_message, HBox([saveTS_button, TP_number_box, TP_desc_box, TP_saved_dd, delTS_button])])\n",
    "]\n",
    "\n",
    "# actual form definition\n",
    "slicer_form = Box(slicer_form_items, layout=Layout(\n",
    "    display='flex',\n",
    "    flex_flow='column',\n",
    "    border='solid 1px',\n",
    "    align_items='stretch',\n",
    "    width='100%'\n",
    "))\n",
    "slicer_form"
   ]
  },
  {
   "cell_type": "code",
   "execution_count": null,
   "metadata": {
    "code_folding": [
     0
    ]
   },
   "outputs": [],
   "source": [
    "# Analysis Map Definitions\n",
    "\n",
    "print('Generating Analysis Canvas...')\n",
    "analysismap = ParameterMap(sub_sampled_data, 'Orange', 'Parameter Map')\n",
    "\n",
    "deb_output = Label()\n",
    "\n",
    "def selected_index_changed(change):\n",
    "    if len(analysismap.map.selected) != 0:\n",
    "        global current_plot_data\n",
    "        selected_param_plot_data = np.transpose(sub_sampled_data.as_matrix(analysismap.map.selected))\n",
    "        current_plot_data = sub_sampled_data[analysismap.map.selected]\n",
    "        analysis_plot.line.y = selected_param_plot_data\n",
    "        analysis_plot.y_data = selected_param_plot_data  ##\n",
    "        analysis_plot.fig.title = str(analysismap.map.selected)\n",
    "        analysis_plot.xs.min = None\n",
    "        analysis_plot.xs.max = None\n",
    "\n",
    "analysismap.map.observe(selected_index_changed, 'selected')\n",
    "if analysismap.map.selected is not None:\n",
    "    current_plot_data = sub_sampled_data[analysismap.map.selected]\n",
    "else:\n",
    "    current_plot_data = sub_sampled_data\n",
    "analysis_plot = AnalysisPlot(current_plot_data.index.values, current_plot_data.index.values, time_slices_db)\n",
    "\n",
    "\n",
    "poly_order = 1\n",
    "\n",
    "\n",
    "def on_analysis_poly_order_dd_change(change):\n",
    "    global poly_order, current_plot_data\n",
    "    if change['type'] == 'change' and change['name'] == 'value' and len(analysismap.map.selected) != 0:\n",
    "        poly_order = change['new']\n",
    "        #print(poly_order)\n",
    "        analysis_plot.update_plot(current_plot_data, analysismap.map.selected, analysis_plot.xs.min, analysis_plot.xs.max, poly_order)\n",
    "        #current_plot_data, parameter_list, slice_start, slice_end, poly_degree\n",
    "            \n",
    "data_slice_selec.analysisPolyOrderdd.observe(on_analysis_poly_order_dd_change)\n",
    "\n",
    "\n",
    "def on_analysis_TP_dd_change(change):\n",
    "    global poly_order, current_plot_data, time_slices_db\n",
    "    if change['type'] == 'change' and change['name'] == 'value' and len(analysismap.map.selected) != 0:\n",
    "        data_slice_selec.analysisTPDescBox.value = change['new'][0]\n",
    "        data_slice_selec.analysisPolyOrderdd.disabled=False\n",
    "        analysis_plot.x_data_slice_min = time_slices_db[change['new']][1]\n",
    "        analysis_plot.x_data_slice_max = time_slices_db[change['new']][2]\n",
    "        analysis_plot.update_plot(current_plot_data, analysismap.map.selected, time_slices_db[change['new']][1],\n",
    "                                  time_slices_db[change['new']][2], poly_order)\n",
    "        \n",
    "data_slice_selec.analysisTPdd.observe(on_analysis_TP_dd_change)\n",
    "\n",
    "\n",
    "analysis_plot_zoom_slider = SimpleZoomSlider(analysis_plot)\n",
    "\n",
    "\n",
    "\n",
    "def on_analysis_zoom_slider_change(change):\n",
    "    analysis_plot_zoom_slider.updateScale(analysis_plot)\n",
    "    analysis_plot.update_plot(current_plot_data, analysismap.map.selected, \n",
    "                              np.datetime64(analysis_plot.xs.min),\n",
    "                              np.datetime64(analysis_plot.xs.max),\n",
    "                              poly_order)\n",
    "\n",
    "analysis_plot_zoom_slider.zoom_slider.observe(on_analysis_zoom_slider_change, names='value')\n",
    "\n",
    "# slice trim to zoomed figure logic\n",
    "def slice_trim(tp_dict, key_to_find, slice_start, slice_end):\n",
    "    for key in tp_dict.keys():\n",
    "        if key == key_to_find:\n",
    "            current_value = tp_dict[key]\n",
    "            current_value[1] = slice_start\n",
    "            current_value[2] = slice_end\n",
    "            tp_dict[key] = current_value\n",
    "\n",
    "\n",
    "def on_slice_trim_button_clicked(b):\n",
    "    slice_trim(time_slices_db, data_slice_selec.analysisTPdd.value, np.datetime64(analysis_plot.xs.min), np.datetime64(analysis_plot.xs.max))\n",
    "    \n",
    "slice_trim_button = widgets.Button(description='Trim Current Slice')\n",
    "slice_trim_button.on_click(on_slice_trim_button_clicked)"
   ]
  },
  {
   "cell_type": "code",
   "execution_count": null,
   "metadata": {
    "code_folding": [
     0
    ],
    "scrolled": false
   },
   "outputs": [],
   "source": [
    "# Time Slices Analysis Section\n",
    "\n",
    "print('TS ANALYSIS')\n",
    "print('1. select parameter')\n",
    "print('2. select saved TS')\n",
    "analysis_form_items = [\n",
    "    analysismap.map,\n",
    "    HBox([data_slice_selec.analysisTPdd, data_slice_selec.analysisTPDescBox, data_slice_selec.analysisPolyOrderdd]),\n",
    "    VBox([HBox([analysis_plot.fig, analysis_plot.fit_statistics]), analysis_plot.plot_toolbar]),\n",
    "    analysis_plot_zoom_slider.zoom_slider,\n",
    "    slice_trim_button\n",
    "]\n",
    "\n",
    "# actual form definition\n",
    "analysis_form = Box(analysis_form_items, layout=Layout(\n",
    "    display='flex',\n",
    "    flex_flow='column',\n",
    "    border='solid 1px',\n",
    "    align_items='stretch',\n",
    "    width='100%'\n",
    "))\n",
    "analysis_form"
   ]
  },
  {
   "cell_type": "code",
   "execution_count": null,
   "metadata": {
    "code_folding": [
     0
    ]
   },
   "outputs": [],
   "source": [
    "# Slices Save to Disk Section\n",
    "\n",
    "# slice trim to zoomed figure logic\n",
    "def save_slices(tp_dict):\n",
    "    for key in tp_dict.keys():\n",
    "        current_value = tp_dict[key]\n",
    "        filename = '~/work/' + 'TP_' +  str(key) + '_' + current_value[0] + '.csv'\n",
    "        #filename = f.path.split('.')[0] + '_TP_' +  str(key) + '_' + current_value[0] + '.csv'\n",
    "        #think where we can save this so the user can retrieve later...\n",
    "        #remember we are in a container.\n",
    "        slice_start = current_value[1]\n",
    "        slice_end = current_value[2]\n",
    "        sliced_data = raw_data.iloc[(raw_data.index >= slice_start) & \n",
    "                                           (raw_data.index <= slice_end)]\n",
    "        sliced_data.to_csv(filename)\n",
    "    _ = !rm TP_zipped.zip\n",
    "    !zip TP_zipped.zip TP*.csv\n",
    "    !rm TP*.csv\n",
    "    print('')\n",
    "    print('Your slices were saved to TP_zipped.zip')\n",
    "    print('Use the top menu to download to your PC')\n",
    "        \n",
    "\n",
    "\n",
    "def on_save_slices_button_clicked(b):\n",
    "    save_slices(time_slices_db)\n",
    "    \n",
    "save_slices_button = widgets.Button(description='Save Slices to Disk')\n",
    "save_slices_button.on_click(on_save_slices_button_clicked)\n",
    "save_slices_button"
   ]
  },
  {
   "cell_type": "code",
   "execution_count": null,
   "metadata": {
    "code_folding": [
     0
    ],
    "scrolled": false
   },
   "outputs": [],
   "source": [
    "# Exploratory Section Strip Charts\n",
    "\n",
    "##TODO CLEAN UP BUTTON THAT PLOTS WITHOUT REFRESH AFTER HMI DICUSSION\n",
    "\n",
    "print('This is an exploratory section')\n",
    "print('1. Select parameters for Strip Chart')\n",
    "print('2. Press Plot Strip Chart Below')\n",
    "print('3. The TS is the one selected above')\n",
    "\n",
    "strip_chart_map =  ParameterMap(sub_sampled_data, 'Blue', 'Parameter Map')\n",
    "\n",
    "    \n",
    "strip_chart_button = widgets.Button(description='Plot Strip Chart Below')\n",
    "\n",
    "strip_chart = StripChart(sub_sampled_data, strip_chart_map, analysis_plot)\n",
    "\n",
    "\n",
    "def on_strip_chart_button_clicked(b):\n",
    "    if len(strip_chart_map.map.selected) != 0:\n",
    "        #1 select time slice of current plot above\n",
    "        slice_start = np.datetime64(analysis_plot.xs.min)\n",
    "        slice_end = np.datetime64(analysis_plot.xs.max)\n",
    "        \n",
    "\n",
    "        slice_start_index = sub_sampled_data.index.searchsorted(slice_start)\n",
    "        initial_value = sub_sampled_data.index[slice_start_index].timestamp()\n",
    "\n",
    "\n",
    "        strip_chart_x_data = sub_sampled_data.iloc[(sub_sampled_data.index >= slice_start) & \n",
    "                                       (sub_sampled_data.index <= slice_end)].index\n",
    "\n",
    "\n",
    "        #3 for each parameter, create a zoom plot\n",
    "        plotlist = []\n",
    "        counter = 0\n",
    "        for selection in strip_chart_map.map.selected:\n",
    "            strip_chart_y_data = sub_sampled_data.iloc[(sub_sampled_data.index >= slice_start) & \n",
    "                                       (sub_sampled_data.index <= slice_end)][selection].values\n",
    "            plotlist.append(LinePlot(strip_chart_x_data, strip_chart_y_data))\n",
    "            plotlist[counter].fig.title = data_slice_selec.analysisTPdd.value + ' / ' + selection\n",
    "            counter += 1\n",
    "\n",
    "\n",
    "        # Time Slices Analysis Section\n",
    "        test_analysis_form_items1 = []\n",
    "        for plots in plotlist:\n",
    "            plots.xs.min = None\n",
    "            plots.xs.max = None\n",
    "            plots.ys.min = None\n",
    "            plots.ys.max = None\n",
    "            plots.xax.tick_format = '%M:%S.%L'\n",
    "            test_analysis_form_items1.append(plots.fig)\n",
    "        test_analysis_form_items = [\n",
    "            VBox(test_analysis_form_items1)\n",
    "        ]\n",
    "\n",
    "        # actual form definition\n",
    "        test_analysis_form = Box(test_analysis_form_items, layout=Layout(\n",
    "            display='flex',\n",
    "            flex_flow='column',\n",
    "            border='solid 1px',\n",
    "            align_items='stretch',\n",
    "            width='100%'\n",
    "        ))\n",
    "        display(test_analysis_form)\n",
    "\n",
    "strip_chart_button.on_click(on_strip_chart_button_clicked)\n",
    "\n",
    "#VBox([strip_chart_map.map, strip_chart_button])\n",
    "VBox([strip_chart_map.map, strip_chart.widget()])\n"
   ]
  },
  {
   "cell_type": "code",
   "execution_count": null,
   "metadata": {
    "code_folding": [
     0
    ],
    "scrolled": false
   },
   "outputs": [],
   "source": [
    "# Exploratory Section X-Plot\n",
    "\n",
    "print('This is an exploratory section')\n",
    "print('1. Select 2 parameters for Cross Plot')\n",
    "print('2. Press Cross Plot Chart Below')\n",
    "print('3. The TS is the one selected above')\n",
    "xplot_map =  ParameterMap(sub_sampled_data, 'Blue', 'Parameter Map')\n",
    "\n",
    "    \n",
    "xplot_button = widgets.Button(description='Cross Plot Chart Below')\n",
    "\n",
    "\n",
    "def on_xplot_button_clicked(b):\n",
    "    if len(xplot_map.map.selected) > 1:\n",
    "        #1 select time slice of current plot above\n",
    "        slice_start = np.datetime64(analysis_plot.xs.min)\n",
    "        slice_end = np.datetime64(analysis_plot.xs.max)\n",
    "        \n",
    "\n",
    "        slice_start_index = sub_sampled_data.index.searchsorted(slice_start)\n",
    "        initial_value = sub_sampled_data.index[slice_start_index].timestamp()\n",
    "\n",
    "\n",
    "\n",
    "        #3 for each parameter, create a zoom plot\n",
    "\n",
    "        xplot_x_data = sub_sampled_data.iloc[(sub_sampled_data.index >= slice_start) & \n",
    "                                       (sub_sampled_data.index <= slice_end)][xplot_map.map.selected[0]].values\n",
    "        \n",
    "        xplot_y_data = sub_sampled_data.iloc[(sub_sampled_data.index >= slice_start) & \n",
    "                                       (sub_sampled_data.index <= slice_end)][xplot_map.map.selected[1]].values\n",
    "        xplot = CrossPlot(xplot_x_data, xplot_y_data)\n",
    "        xplot.fig.title = data_slice_selec.analysisTPdd.value + ' / ' + xplot_map.map.selected[0] + ' vs ' + xplot_map.map.selected[1]\n",
    "        xplot.xax.label = xplot_map.map.selected[0]\n",
    "        xplot.yax.label = xplot_map.map.selected[1]\n",
    "        print(xplot.xax.label)\n",
    "\n",
    "        display(xplot.fig)\n",
    "\n",
    "xplot_button.on_click(on_xplot_button_clicked)\n",
    "\n",
    "VBox([xplot_map.map, xplot_button])\n"
   ]
  },
  {
   "cell_type": "code",
   "execution_count": null,
   "metadata": {
    "code_folding": [
     0
    ]
   },
   "outputs": [],
   "source": [
    "# Exploratory Section - other data analysis\n",
    "# For example, to calculate total velocity from GPS (SBG) data:\n",
    "sub_sampled_data['SBG_TOT_Vel'] = (sub_sampled_data['SBG_NVel']**2+sub_sampled_data['SBG_EVel']**2+sub_sampled_data['SBG_DVel']**2)**(0.5)\n",
    "\n",
    "# To calculate the velocity derivative\n",
    "sub_sampled_data['DSBG_TOT_Vel'] = sub_sampled_data['SBG_TOT_Vel'].diff() / sub_sampled_data.index.to_series().diff().dt.total_seconds()\n",
    "\n",
    "# To calculate the total aircraf energy, we can:\n",
    "# 1. define the aircraft mass at start of test\n",
    "AC_initial_mass = 6900 #lbs\n",
    "# 2. define conversion factor from gal/h to kg/h,  gravity constants\n",
    "gal2kg = 1/0.17 * 0.453592\n",
    "kt2ms = 0.514444\n",
    "g = 9.8\n",
    "ft2m = 0.3048\n",
    "# 3. integrate fuel flow to get used fuel\n",
    "sub_sampled_data['fuel_used'] = (sub_sampled_data['T28001_EU'].cumsum() + sub_sampled_data['T28002_EU'].cumsum()) * (sub_sampled_data.index.to_series().diff().dt.total_seconds()/60/60)\n",
    "# 4. calculate the instantaneous weight by integrating fuel flow:\n",
    "# initial mass - (sum of fuel flows) * delta t\n",
    "sub_sampled_data['AC_mass'] = AC_initial_mass - (sub_sampled_data['fuel_used']) * gal2kg\n",
    "# 5. calculate the energy\n",
    "sub_sampled_data['Total_Energy'] = 0.5 * sub_sampled_data['AC_mass'] * (sub_sampled_data['SBG_TOT_Vel']*kt2ms)**2 + sub_sampled_data['AC_mass'] * g * sub_sampled_data['Altitude'] #J\n"
   ]
  },
  {
   "cell_type": "code",
   "execution_count": null,
   "metadata": {
    "code_folding": [
     0
    ]
   },
   "outputs": [],
   "source": [
    "# Exploratory Section - Additional Plots\n",
    "\n",
    "# We can now plot what we calculated:\n",
    "# 1.define the time slice we want\n",
    "slice_start = np.datetime64('2018-03-27 14:46:01')\n",
    "slice_end = np.datetime64('2018-03-27 14:47:00')\n",
    "\n",
    "# 2a.slice the x data\n",
    "my_x_data = sub_sampled_data.iloc[(sub_sampled_data.index >= slice_start) & \n",
    "                                       (sub_sampled_data.index <= slice_end)].index\n",
    "# 2b.choose&slice the y data\n",
    "my_y_data = sub_sampled_data.iloc[(sub_sampled_data.index >= slice_start) & \n",
    "                                       (sub_sampled_data.index <= slice_end)]['Total_Energy'].values\n",
    "# 3.create the plit\n",
    "my_graph = LinePlot(my_x_data, my_y_data)\n",
    "\n",
    "# 4.display it\n",
    "my_graph.fig"
   ]
  },
  {
   "cell_type": "code",
   "execution_count": 15,
   "metadata": {},
   "outputs": [
    {
     "data": {
      "application/vnd.jupyter.widget-view+json": {
       "model_id": "16734ecff3ad4970bf6bc8261afa5281",
       "version_major": 2,
       "version_minor": 0
      },
      "text/plain": [
       "VBox(children=(Figure(camera_center=[0.0, 0.0, 0.0], height=500, matrix_projection=[0.0, 0.0, 0.0, 0.0, 0.0, 0…"
      ]
     },
     "metadata": {},
     "output_type": "display_data"
    }
   ],
   "source": [
    "\n"
   ]
  },
  {
   "cell_type": "code",
   "execution_count": null,
   "metadata": {},
   "outputs": [],
   "source": []
  }
 ],
 "metadata": {
  "kernelspec": {
   "display_name": "Python 3",
   "language": "python",
   "name": "python3"
  },
  "language_info": {
   "codemirror_mode": {
    "name": "ipython",
    "version": 3
   },
   "file_extension": ".py",
   "mimetype": "text/x-python",
   "name": "python",
   "nbconvert_exporter": "python",
   "pygments_lexer": "ipython3",
   "version": "3.6.5"
  }
 },
 "nbformat": 4,
 "nbformat_minor": 2
}
